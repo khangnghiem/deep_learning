{
 "cells": [
  {
   "cell_type": "code",
   "execution_count": 1,
   "id": "a74524aa",
   "metadata": {},
   "outputs": [
    {
     "name": "stderr",
     "output_type": "stream",
     "text": [
      "/Users/khangnghiem/deep_learning/.venv/lib/python3.12/site-packages/tqdm/auto.py:21: TqdmWarning: IProgress not found. Please update jupyter and ipywidgets. See https://ipywidgets.readthedocs.io/en/stable/user_install.html\n",
      "  from .autonotebook import tqdm as notebook_tqdm\n"
     ]
    }
   ],
   "source": [
    "import os\n",
    "import glob\n",
    "import numpy as np\n",
    "import torch\n",
    "from torchvision import datasets, transforms\n",
    "import torch.nn.functional as F\n",
    "from torch.utils.data import DataLoader, Dataset"
   ]
  },
  {
   "cell_type": "code",
   "execution_count": 2,
   "id": "adc1f8cd",
   "metadata": {},
   "outputs": [],
   "source": [
    "train_data = datasets.MNIST(\n",
    "    \"../data\", train=True, transform=transforms.ToTensor(), download=True\n",
    ")\n",
    "test_data = datasets.MNIST(\n",
    "    \"../data\", train=False, transform=transforms.ToTensor(), download=True\n",
    ")\n",
    "\n",
    "for file_path in glob.glob(\"../data/**/*.gz\", recursive=True):\n",
    "    os.remove(file_path)"
   ]
  },
  {
   "cell_type": "code",
   "execution_count": 3,
   "id": "cb98e4a4",
   "metadata": {},
   "outputs": [
    {
     "data": {
      "text/plain": [
       "10000"
      ]
     },
     "execution_count": 3,
     "metadata": {},
     "output_type": "execute_result"
    }
   ],
   "source": [
    "len(test_data)"
   ]
  },
  {
   "cell_type": "code",
   "execution_count": 4,
   "id": "2733c468",
   "metadata": {},
   "outputs": [],
   "source": [
    "train_loader = DataLoader(train_data, batch_size=32, shuffle=True)\n",
    "test_loader = DataLoader(test_data, batch_size=len(test_data), shuffle=False)"
   ]
  },
  {
   "cell_type": "code",
   "execution_count": null,
   "id": "616f24bd",
   "metadata": {},
   "outputs": [],
   "source": [
    "class MNISTNet(torch.nn.Module):\n",
    "    def __init__(self, input_dim=28*28, hidden1=128, hidden2=64, output_dim=10):\n",
    "        super().__init__()\n",
    "        self.input = torch.nn.Linear(input_dim, hidden1)\n",
    "        self.hidden = torch.nn.Linear(hidden1, hidden2)\n",
    "        self.output = torch.nn.Linear(hidden2, output_dim)\n",
    "    def forward(self, x):\n",
    "        x = F.relu(self.input(x))\n",
    "        x = F.relu(self.hidden(x))\n",
    "        x = self.output(x)\n",
    "        return F.log_softmax(x, dim=1)\n",
    "    \n",
    "def create_mnist_net(learning_rate=.001, input_dim = 28*28, hidden, **kwargs): \n",
    "    net = MNISTNet(input_dim=input_dim, hidden1=128, hidden2=64, output_dim=output_dim)\n",
    "    loss_fn = torch.nn.NLLLoss()\n",
    "    optimizer = torch.optim.Adam(net.parameters(), lr=learning_rate)\n",
    "    return net, loss_fn, optimizer"
   ]
  },
  {
   "cell_type": "code",
   "execution_count": null,
   "id": "1b807425",
   "metadata": {},
   "outputs": [
    {
     "name": "stdout",
     "output_type": "stream",
     "text": [
      "create_mnist_net() test passed.\n"
     ]
    }
   ],
   "source": [
    "def test_create_mnist_net():\n",
    "    net, loss_fn, optimizer = create_mnist_net(learning_rate=.001)\n",
    "    assert isinstance(net, MNISTNet), \"net should be an instance of MNISTNet\"\n",
    "    assert isinstance(loss_fn, torch.nn.NLLLoss), \"loss_fn should be NLLLoss\"\n",
    "    assert isinstance(optimizer, torch.optim.Adam), \"optimizer should be Adam\"\n",
    "    assert len(list(net.parameters())) > 0, \"net should have parameters\"\n"
   ]
  },
  {
   "cell_type": "code",
   "execution_count": null,
   "id": "9b735f84",
   "metadata": {},
   "outputs": [],
   "source": [
    "def train_mnist_net(net, train_loader, loss_fn, optimizer, epochs=100):\n",
    "    losses = []\n",
    "    train_acc = []\n",
    "    test_acc = []\n",
    "    \n",
    "    net.train()\n",
    "    for epoch in range(epochs):\n",
    "        batch_losses = []\n",
    "        batch_acc = []\n",
    "        \n",
    "        for batch_idx, (data, target) in enumerate(train_loader):\n",
    "            data = data.view(data.size(0), -1)  # Flatten the images\n",
    "\n",
    "            # Forward pass\n",
    "            y_hat = net(data)\n",
    "            loss = loss_fn(y_hat, target)\n",
    "            \n",
    "            # Backprop\n",
    "            optimizer.zero_grad()\n",
    "            loss.backward()\n",
    "            optimizer.step()\n",
    "            \n",
    "            # Accumulate loss and accuracy\n",
    "            batch_losses.append(loss.item())\n",
    "            matches = (y_hat.argmax(dim=1) == target)\n",
    "            \n",
    "            \n",
    "            if batch_idx % 100 == 0:\n",
    "                print(f\"Train Epoch: {epoch} [{batch_idx * len(data)}/{len(train_loader.dataset)}] Loss: {loss.item():.6f}\")"
   ]
  }
 ],
 "metadata": {
  "kernelspec": {
   "display_name": ".venv",
   "language": "python",
   "name": "python3"
  },
  "language_info": {
   "codemirror_mode": {
    "name": "ipython",
    "version": 3
   },
   "file_extension": ".py",
   "mimetype": "text/x-python",
   "name": "python",
   "nbconvert_exporter": "python",
   "pygments_lexer": "ipython3",
   "version": "3.12.7"
  }
 },
 "nbformat": 4,
 "nbformat_minor": 5
}
